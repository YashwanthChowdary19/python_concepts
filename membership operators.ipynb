{
 "cells": [
  {
   "cell_type": "markdown",
   "id": "b55b5e5c",
   "metadata": {},
   "source": [
    "# membership operators"
   ]
  },
  {
   "cell_type": "markdown",
   "id": "7bad8c92",
   "metadata": {},
   "source": [
    "***"
   ]
  },
  {
   "cell_type": "markdown",
   "id": "626a6073",
   "metadata": {},
   "source": [
    "### 1) <b>in</b> (it will return True if the data is present otherwise False)\n",
    "### 2) <b>not in</b> (it will return True if the data is not present otherwise False)"
   ]
  },
  {
   "cell_type": "markdown",
   "id": "1bc31484",
   "metadata": {},
   "source": [
    "***"
   ]
  },
  {
   "cell_type": "markdown",
   "id": "7a307e73",
   "metadata": {},
   "source": [
    "#### consider a string and perform in \n",
    "\n",
    "#### note : you can perform on list ,dict ,tuple , etc"
   ]
  },
  {
   "cell_type": "markdown",
   "id": "02b9d71d",
   "metadata": {},
   "source": [
    "***"
   ]
  },
  {
   "cell_type": "code",
   "execution_count": 37,
   "id": "562c5853-f83b-44ac-b52b-011a484777e1",
   "metadata": {},
   "outputs": [
    {
     "data": {
      "text/plain": [
       "True"
      ]
     },
     "execution_count": 37,
     "metadata": {},
     "output_type": "execute_result"
    }
   ],
   "source": [
    "#consider a string and perform in \n",
    "#note : you can perform on list ,dict ,tuple , etc\n",
    "string = \"random name\"\n",
    "\"random\" in string"
   ]
  },
  {
   "cell_type": "code",
   "execution_count": 38,
   "id": "d77559b4-b253-4e3d-bba8-80ba159d6d83",
   "metadata": {},
   "outputs": [
    {
     "data": {
      "text/plain": [
       "True"
      ]
     },
     "execution_count": 38,
     "metadata": {},
     "output_type": "execute_result"
    }
   ],
   "source": [
    "string = \"random name\"\n",
    "\"name\" in string"
   ]
  },
  {
   "cell_type": "code",
   "execution_count": 39,
   "id": "4ae31fe2-2d62-4f5a-addd-3816026b192b",
   "metadata": {},
   "outputs": [
    {
     "data": {
      "text/plain": [
       "False"
      ]
     },
     "execution_count": 39,
     "metadata": {},
     "output_type": "execute_result"
    }
   ],
   "source": [
    "string = \"random name\"\n",
    "\"mahesh\" in string"
   ]
  },
  {
   "cell_type": "code",
   "execution_count": 40,
   "id": "c1bfa221-b9df-4abb-9bcf-b28e97289727",
   "metadata": {},
   "outputs": [
    {
     "data": {
      "text/plain": [
       "False"
      ]
     },
     "execution_count": 40,
     "metadata": {},
     "output_type": "execute_result"
    }
   ],
   "source": [
    "#perform not in \n",
    "string = \"random name\"\n",
    "\"random\" not in string\n"
   ]
  },
  {
   "cell_type": "code",
   "execution_count": 43,
   "id": "2518d5b6-6b63-4084-bfff-6cd95357b8d2",
   "metadata": {},
   "outputs": [
    {
     "data": {
      "text/plain": [
       "False"
      ]
     },
     "execution_count": 43,
     "metadata": {},
     "output_type": "execute_result"
    }
   ],
   "source": [
    "string = \"random name\"\n",
    "\"name\" not in string"
   ]
  },
  {
   "cell_type": "code",
   "execution_count": 44,
   "id": "89fb0614-e615-4c98-b7a5-e771216c18d2",
   "metadata": {},
   "outputs": [
    {
     "data": {
      "text/plain": [
       "True"
      ]
     },
     "execution_count": 44,
     "metadata": {},
     "output_type": "execute_result"
    }
   ],
   "source": [
    "string = \"random name\"\n",
    "\"mahesh\" not in string"
   ]
  }
 ],
 "metadata": {
  "kernelspec": {
   "display_name": "Python 3 (ipykernel)",
   "language": "python",
   "name": "python3"
  },
  "language_info": {
   "codemirror_mode": {
    "name": "ipython",
    "version": 3
   },
   "file_extension": ".py",
   "mimetype": "text/x-python",
   "name": "python",
   "nbconvert_exporter": "python",
   "pygments_lexer": "ipython3",
   "version": "3.13.3"
  }
 },
 "nbformat": 4,
 "nbformat_minor": 5
}
