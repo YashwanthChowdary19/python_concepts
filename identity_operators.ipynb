{
 "cells": [
  {
   "cell_type": "markdown",
   "id": "0c29b844-e4c9-4fbe-aee3-e2d2b2567661",
   "metadata": {},
   "source": [
    "# Identity Operators"
   ]
  },
  {
   "cell_type": "markdown",
   "id": "2471414f",
   "metadata": {},
   "source": [
    "***"
   ]
  },
  {
   "cell_type": "markdown",
   "id": "7de30436",
   "metadata": {},
   "source": [
    "### Topics \n",
    "#### 1) id() funtion\n",
    "#### 2) is operator\n",
    "#### 3) is not operator \n",
    "#### 4) difference between  == and is operators"
   ]
  },
  {
   "cell_type": "markdown",
   "id": "26071813",
   "metadata": {},
   "source": [
    "***"
   ]
  },
  {
   "cell_type": "markdown",
   "id": "c3d7860a",
   "metadata": {},
   "source": [
    "## 1) id() function\n",
    "### <i> id() function is used to identify the address of the object(value) not the variable </i>"
   ]
  },
  {
   "cell_type": "code",
   "execution_count": null,
   "id": "70b3509c",
   "metadata": {},
   "outputs": [
    {
     "data": {
      "text/plain": [
       "2836667316144"
      ]
     },
     "execution_count": 4,
     "metadata": {},
     "output_type": "execute_result"
    }
   ],
   "source": [
    "str = \"hello\"\n",
    "id(str)"
   ]
  },
  {
   "cell_type": "code",
   "execution_count": 5,
   "id": "1fce6639",
   "metadata": {},
   "outputs": [
    {
     "data": {
      "text/plain": [
       "2836667316144"
      ]
     },
     "execution_count": 5,
     "metadata": {},
     "output_type": "execute_result"
    }
   ],
   "source": [
    "id(\"hello\")"
   ]
  },
  {
   "cell_type": "markdown",
   "id": "9b843e89",
   "metadata": {},
   "source": [
    "#### <i> compare the above two cells the address is same bcz the id function identified the address of 'hello' not the string</i>"
   ]
  },
  {
   "cell_type": "markdown",
   "id": "1c984b89",
   "metadata": {},
   "source": [
    "***"
   ]
  },
  {
   "cell_type": "markdown",
   "id": "a4598cf4",
   "metadata": {},
   "source": [
    "# 2) is operator\n",
    "### <i>is operator is used to comapare the compare the addresses of two objects \n",
    "### and it returns True if the both addresses are same<i>"
   ]
  },
  {
   "cell_type": "code",
   "execution_count": 8,
   "id": "1173cab7",
   "metadata": {},
   "outputs": [
    {
     "data": {
      "text/plain": [
       "2836671444672"
      ]
     },
     "execution_count": 8,
     "metadata": {},
     "output_type": "execute_result"
    }
   ],
   "source": [
    "list1 = [1,2,3]\n",
    "list2 = [1,2,3]\n",
    "id(list1)\n"
   ]
  },
  {
   "cell_type": "code",
   "execution_count": 9,
   "id": "7668942c",
   "metadata": {},
   "outputs": [
    {
     "data": {
      "text/plain": [
       "2836671444992"
      ]
     },
     "execution_count": 9,
     "metadata": {},
     "output_type": "execute_result"
    }
   ],
   "source": [
    "id(list2)"
   ]
  },
  {
   "cell_type": "code",
   "execution_count": 10,
   "id": "7518258d",
   "metadata": {},
   "outputs": [
    {
     "data": {
      "text/plain": [
       "False"
      ]
     },
     "execution_count": 10,
     "metadata": {},
     "output_type": "execute_result"
    }
   ],
   "source": [
    "list1 is list2"
   ]
  },
  {
   "cell_type": "markdown",
   "id": "0288823a",
   "metadata": {},
   "source": [
    "### <i> the output is displaying false because the addresses is different"
   ]
  },
  {
   "cell_type": "markdown",
   "id": "3675be5a",
   "metadata": {},
   "source": [
    "***"
   ]
  },
  {
   "cell_type": "markdown",
   "id": "a61f8698",
   "metadata": {},
   "source": [
    "# 3) is not operator\n",
    "#### <i> is not operator return True if the both addresses are different (opposite to is)"
   ]
  },
  {
   "cell_type": "code",
   "execution_count": 11,
   "id": "9037725d",
   "metadata": {},
   "outputs": [
    {
     "data": {
      "text/plain": [
       "True"
      ]
     },
     "execution_count": 11,
     "metadata": {},
     "output_type": "execute_result"
    }
   ],
   "source": [
    "list1 = [1,2,3]\n",
    "list2 = [1,2,3]\n",
    "list1 is not list2"
   ]
  },
  {
   "cell_type": "markdown",
   "id": "e383ed2d",
   "metadata": {},
   "source": [
    "***"
   ]
  },
  {
   "cell_type": "markdown",
   "id": "0ae4a387",
   "metadata": {},
   "source": [
    "# 4) Difference Between == and is"
   ]
  },
  {
   "cell_type": "markdown",
   "id": "d47e7a72",
   "metadata": {},
   "source": [
    "#### <i> '==' operator is used to compare the objects(values)\n",
    "#### but 'is' operator is used to compare the addresses for the objects</i>"
   ]
  },
  {
   "cell_type": "markdown",
   "id": "3949eac6",
   "metadata": {},
   "source": [
    "***"
   ]
  },
  {
   "cell_type": "code",
   "execution_count": 13,
   "id": "dc2bb860",
   "metadata": {},
   "outputs": [
    {
     "data": {
      "text/plain": [
       "True"
      ]
     },
     "execution_count": 13,
     "metadata": {},
     "output_type": "execute_result"
    }
   ],
   "source": [
    "list1 = [1,2,3]\n",
    "list2 = [1,2,3]\n",
    "list1 == list2\n"
   ]
  },
  {
   "cell_type": "code",
   "execution_count": 14,
   "id": "2797cc6a",
   "metadata": {},
   "outputs": [
    {
     "data": {
      "text/plain": [
       "False"
      ]
     },
     "execution_count": 14,
     "metadata": {},
     "output_type": "execute_result"
    }
   ],
   "source": [
    "list1 is list2"
   ]
  }
 ],
 "metadata": {
  "kernelspec": {
   "display_name": "Python 3 (ipykernel)",
   "language": "python",
   "name": "python3"
  },
  "language_info": {
   "codemirror_mode": {
    "name": "ipython",
    "version": 3
   },
   "file_extension": ".py",
   "mimetype": "text/x-python",
   "name": "python",
   "nbconvert_exporter": "python",
   "pygments_lexer": "ipython3",
   "version": "3.13.3"
  }
 },
 "nbformat": 4,
 "nbformat_minor": 5
}
