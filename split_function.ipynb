{
 "cells": [
  {
   "cell_type": "markdown",
   "id": "eb0f3db1-5f29-44a7-b54d-c0bc95c866e5",
   "metadata": {},
   "source": [
    "# <b style = color:red;>Topic --> Split function</b>\n"
   ]
  },
  {
   "cell_type": "markdown",
   "id": "8c2333ac-2b2e-4e7c-b19a-2b69c05c844e",
   "metadata": {},
   "source": [
    "### <i style=color:orange>split function is used to split the <b style=color:blue>string</b> into <b style=color:blue>list</b> based on delimiter</i>\n",
    "### <i style =color:orange>default delimiter is <b style=color:blue>space</b> in split function<i>"
   ]
  },
  {
   "cell_type": "markdown",
   "id": "ccaadf23-458f-47e3-b467-96e50f40ba02",
   "metadata": {},
   "source": [
    "***"
   ]
  },
  {
   "cell_type": "markdown",
   "id": "0a21fe2d-062c-40c0-b2ff-065db294df68",
   "metadata": {},
   "source": [
    "### syntax : \n",
    "#### <mark>string.split(seperator,maxsplit)</mark>"
   ]
  },
  {
   "cell_type": "code",
   "execution_count": 17,
   "id": "c631158a-3f9f-401f-8d2c-bddffbfa54df",
   "metadata": {},
   "outputs": [
    {
     "data": {
      "text/plain": [
       "['I', 'am', 'Learning', 'python', 'from', 'youtube']"
      ]
     },
     "execution_count": 17,
     "metadata": {},
     "output_type": "execute_result"
    }
   ],
   "source": [
    "# example -01\n",
    "\"I am Learning python from youtube\".split(' ')"
   ]
  },
  {
   "cell_type": "code",
   "execution_count": 3,
   "id": "717bce20-936c-47cc-abde-d7d0f5935866",
   "metadata": {},
   "outputs": [
    {
     "data": {
      "text/plain": [
       "['I', 'am', 'learning', 'python', 'from', 'youtube']"
      ]
     },
     "execution_count": 3,
     "metadata": {},
     "output_type": "execute_result"
    }
   ],
   "source": [
    "# example -02\n",
    "consider_string = \"I am learning python from youtube\"\n",
    "consider_string.split() #by default it takes the space as delimeter"
   ]
  },
  {
   "cell_type": "code",
   "execution_count": 5,
   "id": "a3842857-3219-42c1-bba9-0c2437a2c0a9",
   "metadata": {},
   "outputs": [
    {
     "data": {
      "text/plain": [
       "['I', 'am', 'learning', 'python', 'from', 'youtube']"
      ]
     },
     "execution_count": 5,
     "metadata": {},
     "output_type": "execute_result"
    }
   ],
   "source": [
    "# example -03\n",
    "# custom seperator - seperator can be anything \n",
    "consider_string = \"I,am,learning,python,from,youtube\"\n",
    "consider_string.split(',') # here you need to mention the delimeter in split function within single or double quotes"
   ]
  },
  {
   "cell_type": "code",
   "execution_count": 12,
   "id": "a5d30536-5168-47eb-9119-070ae64e3ae9",
   "metadata": {},
   "outputs": [
    {
     "data": {
      "text/plain": [
       "['I', 'am', 'learning', 'python', 'from', 'youtube']"
      ]
     },
     "execution_count": 12,
     "metadata": {},
     "output_type": "execute_result"
    }
   ],
   "source": [
    "# example -04\n",
    "consider_string = \"I     am   learning   python  from   youtube\" # if string contains multiple consecutive of space in string then simply give the split function\n",
    "consider_string.split()"
   ]
  },
  {
   "cell_type": "code",
   "execution_count": 13,
   "id": "b397b483-8995-42c4-8a61-32c8d96d1525",
   "metadata": {},
   "outputs": [
    {
     "data": {
      "text/plain": [
       "['I am learning python from youtube']"
      ]
     },
     "execution_count": 13,
     "metadata": {},
     "output_type": "execute_result"
    }
   ],
   "source": [
    "# example -05\n",
    "# if the seperator is not found\n",
    "consider_string = \"I am learning python from youtube\" \n",
    "consider_string.split(',') \n",
    "\n",
    "#if you give the different delimeter which is not present in the string then the split  simply returns the entire string as single value in list \n"
   ]
  },
  {
   "cell_type": "code",
   "execution_count": 15,
   "id": "4a7fe41a-d858-48fc-b186-27467685e094",
   "metadata": {},
   "outputs": [
    {
     "data": {
      "text/plain": [
       "['I', 'am', 'learning', 'python from youtube']"
      ]
     },
     "execution_count": 15,
     "metadata": {},
     "output_type": "execute_result"
    }
   ],
   "source": [
    "# example -06\n",
    "# you can split the string into n number of times \n",
    "consider_string = \"I am learning python from youtube\"\n",
    "consider_string.split(' ',3)\n",
    "# it will split the string upto three spaces after the return the remaining string single"
   ]
  },
  {
   "cell_type": "code",
   "execution_count": 18,
   "id": "4bffbe01-b3eb-489a-bb04-d4eb9a7dba8e",
   "metadata": {},
   "outputs": [
    {
     "name": "stdin",
     "output_type": "stream",
     "text": [
      "enter the fruits name with space :  banana apple mango watermelon graphs\n"
     ]
    },
    {
     "data": {
      "text/plain": [
       "['banana', 'apple', 'mango', 'watermelon', 'graphs']"
      ]
     },
     "execution_count": 18,
     "metadata": {},
     "output_type": "execute_result"
    }
   ],
   "source": [
    "# example -07\n",
    "# you can split the string by taking the input from users\n",
    "take_string = input(\"enter the fruits name with space : \")\n",
    "take_string.split(' ') # seperator is space"
   ]
  },
  {
   "cell_type": "code",
   "execution_count": null,
   "id": "15f246e8-5c79-4e39-9727-6aba17b361b6",
   "metadata": {},
   "outputs": [],
   "source": []
  },
  {
   "cell_type": "code",
   "execution_count": null,
   "id": "8e614fb2-c267-4b70-b563-6f8e35ce2f46",
   "metadata": {},
   "outputs": [],
   "source": []
  },
  {
   "cell_type": "code",
   "execution_count": null,
   "id": "f685a112-965c-483e-9001-44733fbcf36b",
   "metadata": {},
   "outputs": [],
   "source": []
  },
  {
   "cell_type": "code",
   "execution_count": null,
   "id": "696d0d29-76b3-4775-baa7-b549f0ce8a0a",
   "metadata": {},
   "outputs": [],
   "source": []
  },
  {
   "cell_type": "code",
   "execution_count": null,
   "id": "7c88525b-adff-414a-9d05-672d2bef90f0",
   "metadata": {},
   "outputs": [],
   "source": []
  },
  {
   "cell_type": "code",
   "execution_count": null,
   "id": "1f4cc225-af2f-4e80-9e40-039a418ac2ed",
   "metadata": {},
   "outputs": [],
   "source": []
  },
  {
   "cell_type": "code",
   "execution_count": null,
   "id": "ea42f41e-d66f-4d47-8fa2-05869b0c1958",
   "metadata": {},
   "outputs": [],
   "source": []
  },
  {
   "cell_type": "code",
   "execution_count": null,
   "id": "615359e9-a8ae-4ecd-954d-debe4a9247db",
   "metadata": {},
   "outputs": [],
   "source": []
  }
 ],
 "metadata": {
  "kernelspec": {
   "display_name": "Python 3 (ipykernel)",
   "language": "python",
   "name": "python3"
  },
  "language_info": {
   "codemirror_mode": {
    "name": "ipython",
    "version": 3
   },
   "file_extension": ".py",
   "mimetype": "text/x-python",
   "name": "python",
   "nbconvert_exporter": "python",
   "pygments_lexer": "ipython3",
   "version": "3.13.3"
  }
 },
 "nbformat": 4,
 "nbformat_minor": 5
}
