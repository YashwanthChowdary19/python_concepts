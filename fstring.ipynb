{
 "cells": [
  {
   "cell_type": "markdown",
   "metadata": {},
   "source": [
    "# <span style=\"color:white;\">f-string (formatted string)<span>"
   ]
  },
  {
   "cell_type": "markdown",
   "metadata": {},
   "source": [
    "***"
   ]
  },
  {
   "cell_type": "markdown",
   "metadata": {},
   "source": [
    "### 1. print the Integer variables "
   ]
  },
  {
   "cell_type": "code",
   "execution_count": 3,
   "metadata": {},
   "outputs": [
    {
     "name": "stdout",
     "output_type": "stream",
     "text": [
      "a = 10 and b= 20\n"
     ]
    }
   ],
   "source": [
    "# in formatted string we have to give the f symbol (F/f) before the double quotes white indicates it is formatted string\n",
    "a = 10\n",
    "b = 20\n",
    "print(f\"a = {a} and b= {b}\")"
   ]
  },
  {
   "cell_type": "code",
   "execution_count": 4,
   "metadata": {},
   "outputs": [
    {
     "name": "stdout",
     "output_type": "stream",
     "text": [
      "I am learing python\n"
     ]
    }
   ],
   "source": [
    "# printing string variables using f-string\n",
    "string = \"python\"\n",
    "print(f\"I am learing {string}\")"
   ]
  },
  {
   "cell_type": "code",
   "execution_count": null,
   "metadata": {},
   "outputs": [
    {
     "name": "stdout",
     "output_type": "stream",
     "text": [
      "I am learing PYTHON\n"
     ]
    }
   ],
   "source": [
    "# we can use functions also\n",
    "string = \"python\"\n",
    "print(f\"I am learing {string.upper()}\")"
   ]
  },
  {
   "cell_type": "code",
   "execution_count": 10,
   "metadata": {},
   "outputs": [
    {
     "name": "stdout",
     "output_type": "stream",
     "text": [
      "floating number : 10.234534\n",
      "floating number with three decimals : 10.235\n"
     ]
    }
   ],
   "source": [
    "# printing floating number variables and we can print the specified number of decimals  also \n",
    "num = 10.234534\n",
    "print(f\"floating number : {num}\")\n",
    "# if you want only two digits after the decimal point\n",
    "print(f\"floating number with three decimals : {num:.3f}\")"
   ]
  },
  {
   "cell_type": "code",
   "execution_count": 11,
   "metadata": {},
   "outputs": [
    {
     "name": "stdout",
     "output_type": "stream",
     "text": [
      "number : 1,000,000,000\n"
     ]
    }
   ],
   "source": [
    "# printing the amount with commas\n",
    "num = 1000000000\n",
    "print(f\"number : {num:,}\")"
   ]
  }
 ],
 "metadata": {
  "kernelspec": {
   "display_name": "Python 3",
   "language": "python",
   "name": "python3"
  },
  "language_info": {
   "codemirror_mode": {
    "name": "ipython",
    "version": 3
   },
   "file_extension": ".py",
   "mimetype": "text/x-python",
   "name": "python",
   "nbconvert_exporter": "python",
   "pygments_lexer": "ipython3",
   "version": "3.12.3"
  }
 },
 "nbformat": 4,
 "nbformat_minor": 2
}
