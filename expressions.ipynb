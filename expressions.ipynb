{
 "cells": [
  {
   "cell_type": "markdown",
   "id": "9cca3ec6-c4c4-4373-97d4-0690b905aa6a",
   "metadata": {},
   "source": [
    "# <b style=color:red;>Key Topics</b>\n",
    "#  1)Expressions\n",
    "#  2)Constant Expressions\n",
    "#  3)Arithmetic Expressions\n",
    "#  4)Integral Expressions\n",
    "#  5)Floating-point Expressions"
   ]
  },
  {
   "cell_type": "markdown",
   "id": "211273b1-adb3-4cc2-88b6-ccfc54bba5fa",
   "metadata": {},
   "source": [
    "***"
   ]
  },
  {
   "cell_type": "markdown",
   "id": "87266ecf",
   "metadata": {},
   "source": [
    "***"
   ]
  },
  {
   "cell_type": "markdown",
   "id": "bcfd2b9c-305e-4f77-8a47-f072e9033275",
   "metadata": {},
   "source": [
    "## 1)Expressions\n",
    "### <p style = color:orange;><i>Expressions is a combination of <b style=color:blue; >operators and operands</b></i></p>"
   ]
  },
  {
   "cell_type": "code",
   "execution_count": 2,
   "id": "e63dff60-b08d-4946-a5b5-7ce73a0d77fc",
   "metadata": {},
   "outputs": [
    {
     "data": {
      "text/plain": [
       "50"
      ]
     },
     "execution_count": 2,
     "metadata": {},
     "output_type": "execute_result"
    }
   ],
   "source": [
    "# example\n",
    "x=10\n",
    "result = x+40  # x and 10 are operands , + is operator\n",
    "result\n"
   ]
  },
  {
   "cell_type": "markdown",
   "id": "4dae033f-c980-477a-9bf1-b61e072145d1",
   "metadata": {},
   "source": [
    "***\n"
   ]
  },
  {
   "cell_type": "markdown",
   "id": "b7d325fc-2705-46ea-8e25-6c53284d645f",
   "metadata": {},
   "source": [
    "## 2)constant expressions\n",
    "### <p style = color:orange;><i>contains <b style=color:blue; >constants values</b> as operands</i></p>"
   ]
  },
  {
   "cell_type": "code",
   "execution_count": 3,
   "id": "d57119ec-a118-49d4-b498-abed622a5c8d",
   "metadata": {},
   "outputs": [
    {
     "data": {
      "text/plain": [
       "30"
      ]
     },
     "execution_count": 3,
     "metadata": {},
     "output_type": "execute_result"
    }
   ],
   "source": [
    "#example\n",
    "result=10+20  # here 10 and 20 are constant operands\n",
    "result "
   ]
  },
  {
   "cell_type": "markdown",
   "id": "a9f9796c-bc56-4f92-ba32-72180bbf9709",
   "metadata": {},
   "source": [
    "***"
   ]
  },
  {
   "cell_type": "markdown",
   "id": "00df3b1a-223b-4cff-a6bf-af8b99106c15",
   "metadata": {},
   "source": [
    "## 3)Arithmetic expressions\n",
    "### <p style = color:orange;><i>contains <b style=color:blue; >numeric values</b> and <b style=color:blue; >strings</b> as operands ,<b style=color:blue>arithmetic operators</b> and sometimes parenthesis</i></p>"
   ]
  },
  {
   "cell_type": "code",
   "execution_count": 4,
   "id": "be568fa0-95e9-4943-abed-d99bd9fe5f3e",
   "metadata": {},
   "outputs": [
    {
     "data": {
      "text/plain": [
       "'randomrandomrandom'"
      ]
     },
     "execution_count": 4,
     "metadata": {},
     "output_type": "execute_result"
    }
   ],
   "source": [
    "#example\n",
    "x = \"random\"\n",
    "result =x*3 # here x(string) and 3(integer) are operands , * is an arithmetic operator\n",
    "result"
   ]
  },
  {
   "cell_type": "markdown",
   "id": "74020595-c5d7-4b8f-8c86-a815e9dd1154",
   "metadata": {},
   "source": [
    "***"
   ]
  },
  {
   "cell_type": "markdown",
   "id": "15f71737-4813-46d8-80af-2909e503a51a",
   "metadata": {},
   "source": [
    "## 4)Integral Expressions\n",
    "###  <p style = color:orange;><i>results as <b style=color:blue; >integer</b> value after performing the necessary type convertions "
   ]
  },
  {
   "cell_type": "code",
   "execution_count": 6,
   "id": "8f0e6797-b3f1-4c91-b76b-158753d76c64",
   "metadata": {},
   "outputs": [
    {
     "data": {
      "text/plain": [
       "30"
      ]
     },
     "execution_count": 6,
     "metadata": {},
     "output_type": "execute_result"
    }
   ],
   "source": [
    "#example\n",
    "x = 10\n",
    "y = '20'\n",
    "result = x + int(y)\n",
    "result # result as integer\n"
   ]
  },
  {
   "cell_type": "markdown",
   "id": "ba019d13-4c80-4bc6-b142-e94ab04fc2b0",
   "metadata": {},
   "source": [
    "***"
   ]
  },
  {
   "cell_type": "markdown",
   "id": "80353d2a-59f4-47b0-9cd5-f4d11de33b00",
   "metadata": {},
   "source": [
    "## 5)Floating - Point Expression\n",
    "###  <p style = color:orange;><i>results as <b style=color:blue; >float</b> value after performing the necessary type convertions "
   ]
  },
  {
   "cell_type": "code",
   "execution_count": 7,
   "id": "12b86ead-c4d5-48eb-a0ea-a1a6229708a5",
   "metadata": {},
   "outputs": [
    {
     "data": {
      "text/plain": [
       "30.0"
      ]
     },
     "execution_count": 7,
     "metadata": {},
     "output_type": "execute_result"
    }
   ],
   "source": [
    "#example\n",
    "x = 10\n",
    "y = 20\n",
    "result = float(x) + float(y)\n",
    "result #result as float value"
   ]
  }
 ],
 "metadata": {
  "kernelspec": {
   "display_name": "Python 3 (ipykernel)",
   "language": "python",
   "name": "python3"
  },
  "language_info": {
   "codemirror_mode": {
    "name": "ipython",
    "version": 3
   },
   "file_extension": ".py",
   "mimetype": "text/x-python",
   "name": "python",
   "nbconvert_exporter": "python",
   "pygments_lexer": "ipython3",
   "version": "3.13.3"
  }
 },
 "nbformat": 4,
 "nbformat_minor": 5
}
